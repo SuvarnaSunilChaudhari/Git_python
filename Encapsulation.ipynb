{
 "cells": [
  {
   "cell_type": "code",
   "execution_count": null,
   "metadata": {},
   "outputs": [],
   "source": [
    "It is a second import concept/ piller of OOp.\n",
    "It is used to restrict the access of variables and methods outside the class.\n",
    "Used for protecting the accidental modification of the data."
   ]
  },
  {
   "cell_type": "code",
   "execution_count": null,
   "metadata": {},
   "outputs": [],
   "source": [
    "Encapsulation is a concept of wrapping up a data into single unit.\n",
    "Single unit:\n",
    "    Global variable\n",
    "    local variable\n",
    "    class variable\n",
    "    instance variable\n",
    "    method\n",
    "    private variable >> __variable name\n",
    "    private method   >> __method name\n",
    "    \n",
    "    var1 = 10000\n",
    "    __var1 =10000"
   ]
  },
  {
   "cell_type": "markdown",
   "metadata": {},
   "source": [
    "# Private VARIABLE "
   ]
  },
  {
   "cell_type": "code",
   "execution_count": null,
   "metadata": {
    "scrolled": true
   },
   "outputs": [],
   "source": [
    "class Normal():\n",
    "    var1 = 10000                          # class variable                \n",
    "    def __init__(self):\n",
    "        print('We are in INIT method.')\n",
    "        var2 = 'Data Science'            # local variable\n",
    "        self.var3 = 'Python'             # insatance variable \n",
    "        print( self.var3)                  \n",
    "        print(var2)\n",
    "        \n",
    "obj = Normal()\n",
    "print(obj.var1)\n",
    "print(obj.var3)"
   ]
  },
  {
   "cell_type": "code",
   "execution_count": null,
   "metadata": {},
   "outputs": [],
   "source": [
    "class Private():\n",
    "    __var1 = 10000                      # private class variable               \n",
    "    def method1(self):                 # init method \n",
    "        print('We are in INIT method.')\n",
    "        var2 = 'Data Science'\n",
    "        #print(var2)                            # local variable\n",
    "        self.__var3 = 'Python'          #  private instance variable         \n",
    "        #print(self.__var3)\n",
    "        \n",
    "obj = Private()\n",
    "obj.method1()\n",
    "print()\n",
    "#print(obj.var1)"
   ]
  },
  {
   "cell_type": "code",
   "execution_count": null,
   "metadata": {},
   "outputs": [],
   "source": [
    "class Private():\n",
    "    __var1 = 10000                      # private class variable               \n",
    "    def __init__(self):                 # init method \n",
    "        print('We are in INIT method.')\n",
    "        var2 = 'Data Science'\n",
    "        #print(var2)                            # local variable\n",
    "        self.__var3 = 'Python'          #  private instance variable         \n",
    "        #print(self.__var3)\n",
    "        \n",
    "obj = Private()\n",
    "#print(obj.var1)\n"
   ]
  },
  {
   "cell_type": "code",
   "execution_count": null,
   "metadata": {},
   "outputs": [],
   "source": [
    "class Normal():\n",
    "    var1 = 10000  \n",
    "    var2 = 'Data Science'   \n",
    "    def __init__(self):\n",
    "        print('We are in INIT method.')\n",
    "        var2 = 'Data Science'           # local\n",
    "        self.__var3 = 'Python'          # private instance variable         \n",
    "        #print(self.var3)\n",
    "        \n",
    "obj = Normal()\n",
    "print(obj.var1) \n",
    "print(obj.var2)\n",
    "obj.__var3"
   ]
  },
  {
   "cell_type": "code",
   "execution_count": 4,
   "metadata": {},
   "outputs": [
    {
     "name": "stdout",
     "output_type": "stream",
     "text": [
      "We are in INIT method.\n"
     ]
    },
    {
     "data": {
      "text/plain": [
       "'python'"
      ]
     },
     "execution_count": 4,
     "metadata": {},
     "output_type": "execute_result"
    }
   ],
   "source": [
    "class Normal():\n",
    "    __var1 = 10000                      # private variable               \n",
    "    def __init__(self):\n",
    "        print('We are in INIT method.')\n",
    "        var2 = 'Data Science'           # local\n",
    "        self.__var3 = 'Python'          # private instance variable         \n",
    "#         print(self.__var3)\n",
    "        \n",
    "obj = Normal()\n",
    "obj.__var1 = \"python\"\n",
    "obj.__var1"
   ]
  },
  {
   "cell_type": "code",
   "execution_count": 5,
   "metadata": {},
   "outputs": [
    {
     "name": "stdout",
     "output_type": "stream",
     "text": [
      "We are in init method of Test.\n",
      "\n",
      "Class Variable is:  10000\n",
      "Course name is: Data Science\n",
      "\n",
      "Class Variable is:  10000\n",
      "Course name is: Machine Learning\n"
     ]
    }
   ],
   "source": [
    "class Test():\n",
    "    __var1 = 10000\n",
    "    def __init__(self):\n",
    "        print('We are in init method of Test.')\n",
    "        \n",
    "        var2 = 'Python'\n",
    "        self.var3 = 'Data Science'\n",
    "        \n",
    "    def display(self):\n",
    "        print('\\nClass Variable is: ', self.__var1)\n",
    "        print('Course name is:', self.var3)\n",
    "        \n",
    "obj = Test()\n",
    "obj.display()\n",
    "obj.var3 = 'Machine Learning'\n",
    "obj.display()"
   ]
  },
  {
   "cell_type": "code",
   "execution_count": 9,
   "metadata": {},
   "outputs": [
    {
     "name": "stdout",
     "output_type": "stream",
     "text": [
      "We are in init method of Test.\n",
      "\n",
      "Class Variable is:  10000\n",
      "Course name is: Data Science\n",
      "\n",
      "Class Variable is:  10000\n",
      "Course name is: Data Science\n"
     ]
    }
   ],
   "source": [
    "class Test():\n",
    "    __var1 = 10000    # private varibale \n",
    "    def __init__(self):\n",
    "        print('We are in init method of Test.')\n",
    "        \n",
    "        var2 = 'Python'\n",
    "        self.__var3 = 'Data Science'   # instance private \n",
    "        \n",
    "    def display(self):\n",
    "        print('\\nClass Variable is: ',self.__var1)\n",
    "        print('Course name is:', self.__var3)\n",
    "        \n",
    "obj = Test()\n",
    "obj.display()\n",
    "obj.__var3 = 'Machine Learning'\n",
    "obj.display()"
   ]
  },
  {
   "cell_type": "markdown",
   "metadata": {},
   "source": [
    "## Private Methods"
   ]
  },
  {
   "cell_type": "code",
   "execution_count": 10,
   "metadata": {},
   "outputs": [
    {
     "name": "stdout",
     "output_type": "stream",
     "text": [
      "We are in init method\n",
      "We are in method1\n",
      "We are in method2\n",
      "Value of a variable is 10000\n",
      "10\n",
      "20\n"
     ]
    }
   ],
   "source": [
    "class Test():\n",
    "    var1 = 10000       #class variable \n",
    "    \n",
    "    def __init__(self,a, b):\n",
    "        print('We are in init method')\n",
    "        self.a = a       # insatance variable \n",
    "        self.b = b\n",
    "        \n",
    "    def method1(self):\n",
    "        print('We are in method1')\n",
    "        \n",
    "    def method2(self):\n",
    "        print('We are in method2')\n",
    "        \n",
    "    def display(self):\n",
    "        print('Value of a variable is', self.var1)\n",
    "        print(self.a)\n",
    "        print(self.b)\n",
    "        \n",
    "obj = Test(10,20)\n",
    "obj.method1()\n",
    "obj.method2()\n",
    "obj.display()"
   ]
  },
  {
   "cell_type": "code",
   "execution_count": 16,
   "metadata": {},
   "outputs": [
    {
     "name": "stdout",
     "output_type": "stream",
     "text": [
      "We are in init method\n"
     ]
    },
    {
     "ename": "AttributeError",
     "evalue": "'Test' object has no attribute '__display'",
     "output_type": "error",
     "traceback": [
      "\u001b[1;31m---------------------------------------------------------------------------\u001b[0m",
      "\u001b[1;31mAttributeError\u001b[0m                            Traceback (most recent call last)",
      "Cell \u001b[1;32mIn[16], line 23\u001b[0m\n\u001b[0;32m     20\u001b[0m obj \u001b[38;5;241m=\u001b[39m Test(\u001b[38;5;241m10\u001b[39m,\u001b[38;5;241m20\u001b[39m)\n\u001b[0;32m     21\u001b[0m \u001b[38;5;66;03m#obj.__method1()      # because it is private method \u001b[39;00m\n\u001b[0;32m     22\u001b[0m \u001b[38;5;66;03m#obj.__method2()\u001b[39;00m\n\u001b[1;32m---> 23\u001b[0m obj\u001b[38;5;241m.\u001b[39m__display()\n",
      "\u001b[1;31mAttributeError\u001b[0m: 'Test' object has no attribute '__display'"
     ]
    }
   ],
   "source": [
    "class Test(): \n",
    "    __var1 = 10000    # Private variable \n",
    "    \n",
    "    def __init__(self,a, b):   # init method \n",
    "        print('We are in init method')\n",
    "        self.a = a\n",
    "        self.b = b\n",
    "        \n",
    "    def __method1(self):      # private method \n",
    "        print('We are in method1')\n",
    "        \n",
    "    def __method2(self):         # private method \n",
    "        print('We are in method2')\n",
    "        \n",
    "    def __display(self):     # normal method \n",
    "        print('Value of a variable is', self.__var1)\n",
    "        print(self.a)\n",
    "        print(self.b)\n",
    "        \n",
    "obj = Test(10,20)\n",
    "#obj.__method1()      # because it is private method \n",
    "#obj.__method2()\n",
    "obj.__display()"
   ]
  },
  {
   "cell_type": "markdown",
   "metadata": {},
   "source": [
    "## Name Mangling Method"
   ]
  },
  {
   "cell_type": "markdown",
   "metadata": {},
   "source": [
    "To access/modify the private variables/methods outside the class.\n",
    "\n",
    "obj._classname__Identifier/variable name >> access and  modify\n",
    "obj._classname__method name >> access    >> access and modify \n",
    "\n"
   ]
  },
  {
   "cell_type": "code",
   "execution_count": 21,
   "metadata": {},
   "outputs": [
    {
     "name": "stdout",
     "output_type": "stream",
     "text": [
      "We are in init method\n",
      "We are in method1\n"
     ]
    }
   ],
   "source": [
    "class Test():\n",
    "    __var1 = 10000       #private variable\n",
    "    \n",
    "    def __init__(self,a, b):  # init method \n",
    "        print('We are in init method')\n",
    "        self.__a = a\n",
    "        self.__b = b\n",
    "        self.__var2 = 'Data Science'\n",
    "        \n",
    "    def __method1(self):   #private method\n",
    "        print('We are in method1')\n",
    "        \n",
    "    def __method2(self):\n",
    "        print('We are in method2')\n",
    "        \n",
    "    def display(self):\n",
    "        print('Value of a variable 1 is', self.__var1)\n",
    "        print('Value of a variable 2 is', self.__var2)\n",
    "        print(self.__a)\n",
    "        print(self.__b)\n",
    "        self.__method1()\n",
    "        self.__method2()\n",
    "#obj._classname__Identifier/variable name \n",
    "obj = Test(10,20)\n",
    "obj._Test__var1\n",
    "#print(obj._Test__var2)\n",
    "\n",
    "#print(obj._Test__var2)\n",
    "#obj._Test__var2 \n",
    "#print('*'*90)\n",
    "#obj.display()\n",
    "obj._Test__method1()\n"
   ]
  },
  {
   "cell_type": "code",
   "execution_count": null,
   "metadata": {},
   "outputs": [],
   "source": [
    "Encapsulation:\n",
    "    \n",
    "    \n",
    "    \n",
    "it is used to give the restrication to our variables and methods \n",
    "\n",
    "we are creating a private variable and private methods "
   ]
  }
 ],
 "metadata": {
  "kernelspec": {
   "display_name": "Python 3 (ipykernel)",
   "language": "python",
   "name": "python3"
  },
  "language_info": {
   "codemirror_mode": {
    "name": "ipython",
    "version": 3
   },
   "file_extension": ".py",
   "mimetype": "text/x-python",
   "name": "python",
   "nbconvert_exporter": "python",
   "pygments_lexer": "ipython3",
   "version": "3.11.5"
  }
 },
 "nbformat": 4,
 "nbformat_minor": 4
}
